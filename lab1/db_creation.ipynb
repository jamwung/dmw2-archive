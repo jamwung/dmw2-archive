{
 "cells": [
  {
   "cell_type": "code",
   "execution_count": 1,
   "id": "6dc170d1",
   "metadata": {
    "ExecuteTime": {
     "end_time": "2023-02-05T07:27:58.603324Z",
     "start_time": "2023-02-05T07:27:58.025493Z"
    }
   },
   "outputs": [],
   "source": [
    "import pandas as pd\n",
    "import sqlite3"
   ]
  },
  {
   "cell_type": "markdown",
   "id": "434f9b32",
   "metadata": {},
   "source": [
    "# Creating database"
   ]
  },
  {
   "cell_type": "code",
   "execution_count": 2,
   "id": "99e727d7",
   "metadata": {
    "ExecuteTime": {
     "end_time": "2023-02-05T07:27:58.610830Z",
     "start_time": "2023-02-05T07:27:58.606088Z"
    }
   },
   "outputs": [],
   "source": [
    "def connect(db_name, path_only=False):\n",
    "    \"\"\"Anonymously connect to the given database from the SLT folder.\"\"\"\n",
    "    db_path = '/mnt/processed/private/msds2023/slt5a/' + db_name\n",
    "    if path_only:\n",
    "        return db_path\n",
    "    else:\n",
    "        conn = sqlite3.connect(db_path)\n",
    "        return conn"
   ]
  },
  {
   "cell_type": "markdown",
   "id": "1ceac09e",
   "metadata": {},
   "source": [
    "## Read raw dataset"
   ]
  },
  {
   "cell_type": "code",
   "execution_count": 3,
   "id": "b4680b41",
   "metadata": {
    "ExecuteTime": {
     "end_time": "2023-02-05T07:28:22.995678Z",
     "start_time": "2023-02-05T07:27:58.612855Z"
    }
   },
   "outputs": [],
   "source": [
    "path = ('/mnt/data/public/amazon-reviews'\n",
    "        '/amazon_reviews_us_Grocery_v1_00.tsv.gz')\n",
    "amazon = pd.read_csv(path,\n",
    "                     sep='\\t',\n",
    "                     compression='gzip',\n",
    "                     on_bad_lines='skip',\n",
    "                     low_memory=False)"
   ]
  },
  {
   "cell_type": "markdown",
   "id": "c41209ed",
   "metadata": {},
   "source": [
    "## `amazon_main` table"
   ]
  },
  {
   "cell_type": "code",
   "execution_count": 4,
   "id": "e7b7b65a",
   "metadata": {
    "ExecuteTime": {
     "end_time": "2023-02-05T07:28:26.206273Z",
     "start_time": "2023-02-05T07:28:22.999454Z"
    }
   },
   "outputs": [],
   "source": [
    "drop_cols = ['marketplace', 'product_parent', 'product_category',\n",
    "             'helpful_votes', 'total_votes', 'vine', 'verified_purchase']\n",
    "\n",
    "col_order = ['review_id', 'review_date', 'customer_id', 'product_id',\n",
    "             'product_title', 'star_rating', 'review_headline', 'review_body']\n",
    "\n",
    "amazon_main = amazon.drop(columns=drop_cols).dropna()[col_order]"
   ]
  },
  {
   "cell_type": "markdown",
   "id": "663daa97",
   "metadata": {},
   "source": [
    "## Insert `amazon_main` to the database"
   ]
  },
  {
   "cell_type": "code",
   "execution_count": 5,
   "id": "383b7e49",
   "metadata": {
    "ExecuteTime": {
     "end_time": "2023-02-05T07:28:26.212833Z",
     "start_time": "2023-02-05T07:28:26.208517Z"
    }
   },
   "outputs": [],
   "source": [
    "conn = sqlite3.connect('amazon.db')"
   ]
  },
  {
   "cell_type": "code",
   "execution_count": 6,
   "id": "32efa2a0",
   "metadata": {
    "ExecuteTime": {
     "end_time": "2023-02-05T07:28:39.811436Z",
     "start_time": "2023-02-05T07:28:26.214866Z"
    }
   },
   "outputs": [],
   "source": [
    "amazon_main.to_sql('amazon_main', conn, if_exists='replace', index=False);"
   ]
  }
 ],
 "metadata": {
  "kernelspec": {
   "display_name": "Python 3 (ipykernel)",
   "language": "python",
   "name": "python3"
  },
  "language_info": {
   "codemirror_mode": {
    "name": "ipython",
    "version": 3
   },
   "file_extension": ".py",
   "mimetype": "text/x-python",
   "name": "python",
   "nbconvert_exporter": "python",
   "pygments_lexer": "ipython3",
   "version": "3.9.13"
  },
  "toc": {
   "base_numbering": 1,
   "nav_menu": {},
   "number_sections": true,
   "sideBar": true,
   "skip_h1_title": true,
   "title_cell": "Table of Contents",
   "title_sidebar": "Contents",
   "toc_cell": false,
   "toc_position": {},
   "toc_section_display": true,
   "toc_window_display": false
  }
 },
 "nbformat": 4,
 "nbformat_minor": 5
}
